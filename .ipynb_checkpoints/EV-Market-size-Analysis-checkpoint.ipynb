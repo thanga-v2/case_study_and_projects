{
 "cells": [
  {
   "cell_type": "code",
   "execution_count": 1,
   "id": "7179f0ed-6908-453f-9ce1-022293c00f57",
   "metadata": {},
   "outputs": [],
   "source": [
    "import pandas as pd"
   ]
  },
  {
   "cell_type": "code",
   "execution_count": 2,
   "id": "1d099254-f89e-49fc-aa09-51db3c9482ab",
   "metadata": {},
   "outputs": [],
   "source": [
    "data = pd.read_csv('Electric_Vehicle_Population_Data.csv')"
   ]
  },
  {
   "cell_type": "code",
   "execution_count": 3,
   "id": "1bc966fa-236c-4828-8309-89651808ea51",
   "metadata": {},
   "outputs": [
    {
     "data": {
      "text/html": [
       "<div>\n",
       "<style scoped>\n",
       "    .dataframe tbody tr th:only-of-type {\n",
       "        vertical-align: middle;\n",
       "    }\n",
       "\n",
       "    .dataframe tbody tr th {\n",
       "        vertical-align: top;\n",
       "    }\n",
       "\n",
       "    .dataframe thead th {\n",
       "        text-align: right;\n",
       "    }\n",
       "</style>\n",
       "<table border=\"1\" class=\"dataframe\">\n",
       "  <thead>\n",
       "    <tr style=\"text-align: right;\">\n",
       "      <th></th>\n",
       "      <th>VIN (1-10)</th>\n",
       "      <th>County</th>\n",
       "      <th>City</th>\n",
       "      <th>State</th>\n",
       "      <th>Postal Code</th>\n",
       "      <th>Model Year</th>\n",
       "      <th>Make</th>\n",
       "      <th>Model</th>\n",
       "      <th>Electric Vehicle Type</th>\n",
       "      <th>Clean Alternative Fuel Vehicle (CAFV) Eligibility</th>\n",
       "      <th>Electric Range</th>\n",
       "      <th>Base MSRP</th>\n",
       "      <th>Legislative District</th>\n",
       "      <th>DOL Vehicle ID</th>\n",
       "      <th>Vehicle Location</th>\n",
       "      <th>Electric Utility</th>\n",
       "      <th>2020 Census Tract</th>\n",
       "    </tr>\n",
       "  </thead>\n",
       "  <tbody>\n",
       "    <tr>\n",
       "      <th>0</th>\n",
       "      <td>5YJYGDEE1L</td>\n",
       "      <td>King</td>\n",
       "      <td>Seattle</td>\n",
       "      <td>WA</td>\n",
       "      <td>98122.0</td>\n",
       "      <td>2020</td>\n",
       "      <td>TESLA</td>\n",
       "      <td>MODEL Y</td>\n",
       "      <td>Battery Electric Vehicle (BEV)</td>\n",
       "      <td>Clean Alternative Fuel Vehicle Eligible</td>\n",
       "      <td>291</td>\n",
       "      <td>0</td>\n",
       "      <td>37.0</td>\n",
       "      <td>125701579</td>\n",
       "      <td>POINT (-122.30839 47.610365)</td>\n",
       "      <td>CITY OF SEATTLE - (WA)|CITY OF TACOMA - (WA)</td>\n",
       "      <td>5.303301e+10</td>\n",
       "    </tr>\n",
       "    <tr>\n",
       "      <th>1</th>\n",
       "      <td>7SAYGDEE9P</td>\n",
       "      <td>Snohomish</td>\n",
       "      <td>Bothell</td>\n",
       "      <td>WA</td>\n",
       "      <td>98021.0</td>\n",
       "      <td>2023</td>\n",
       "      <td>TESLA</td>\n",
       "      <td>MODEL Y</td>\n",
       "      <td>Battery Electric Vehicle (BEV)</td>\n",
       "      <td>Eligibility unknown as battery range has not b...</td>\n",
       "      <td>0</td>\n",
       "      <td>0</td>\n",
       "      <td>1.0</td>\n",
       "      <td>244285107</td>\n",
       "      <td>POINT (-122.179458 47.802589)</td>\n",
       "      <td>PUGET SOUND ENERGY INC</td>\n",
       "      <td>5.306105e+10</td>\n",
       "    </tr>\n",
       "    <tr>\n",
       "      <th>2</th>\n",
       "      <td>5YJSA1E4XK</td>\n",
       "      <td>King</td>\n",
       "      <td>Seattle</td>\n",
       "      <td>WA</td>\n",
       "      <td>98109.0</td>\n",
       "      <td>2019</td>\n",
       "      <td>TESLA</td>\n",
       "      <td>MODEL S</td>\n",
       "      <td>Battery Electric Vehicle (BEV)</td>\n",
       "      <td>Clean Alternative Fuel Vehicle Eligible</td>\n",
       "      <td>270</td>\n",
       "      <td>0</td>\n",
       "      <td>36.0</td>\n",
       "      <td>156773144</td>\n",
       "      <td>POINT (-122.34848 47.632405)</td>\n",
       "      <td>CITY OF SEATTLE - (WA)|CITY OF TACOMA - (WA)</td>\n",
       "      <td>5.303301e+10</td>\n",
       "    </tr>\n",
       "    <tr>\n",
       "      <th>3</th>\n",
       "      <td>5YJSA1E27G</td>\n",
       "      <td>King</td>\n",
       "      <td>Issaquah</td>\n",
       "      <td>WA</td>\n",
       "      <td>98027.0</td>\n",
       "      <td>2016</td>\n",
       "      <td>TESLA</td>\n",
       "      <td>MODEL S</td>\n",
       "      <td>Battery Electric Vehicle (BEV)</td>\n",
       "      <td>Clean Alternative Fuel Vehicle Eligible</td>\n",
       "      <td>210</td>\n",
       "      <td>0</td>\n",
       "      <td>5.0</td>\n",
       "      <td>165103011</td>\n",
       "      <td>POINT (-122.03646 47.534065)</td>\n",
       "      <td>PUGET SOUND ENERGY INC||CITY OF TACOMA - (WA)</td>\n",
       "      <td>5.303303e+10</td>\n",
       "    </tr>\n",
       "    <tr>\n",
       "      <th>4</th>\n",
       "      <td>5YJYGDEE5M</td>\n",
       "      <td>Kitsap</td>\n",
       "      <td>Suquamish</td>\n",
       "      <td>WA</td>\n",
       "      <td>98392.0</td>\n",
       "      <td>2021</td>\n",
       "      <td>TESLA</td>\n",
       "      <td>MODEL Y</td>\n",
       "      <td>Battery Electric Vehicle (BEV)</td>\n",
       "      <td>Eligibility unknown as battery range has not b...</td>\n",
       "      <td>0</td>\n",
       "      <td>0</td>\n",
       "      <td>23.0</td>\n",
       "      <td>205138552</td>\n",
       "      <td>POINT (-122.55717 47.733415)</td>\n",
       "      <td>PUGET SOUND ENERGY INC</td>\n",
       "      <td>5.303594e+10</td>\n",
       "    </tr>\n",
       "  </tbody>\n",
       "</table>\n",
       "</div>"
      ],
      "text/plain": [
       "   VIN (1-10)     County       City State  Postal Code  Model Year   Make  \\\n",
       "0  5YJYGDEE1L       King    Seattle    WA      98122.0        2020  TESLA   \n",
       "1  7SAYGDEE9P  Snohomish    Bothell    WA      98021.0        2023  TESLA   \n",
       "2  5YJSA1E4XK       King    Seattle    WA      98109.0        2019  TESLA   \n",
       "3  5YJSA1E27G       King   Issaquah    WA      98027.0        2016  TESLA   \n",
       "4  5YJYGDEE5M     Kitsap  Suquamish    WA      98392.0        2021  TESLA   \n",
       "\n",
       "     Model           Electric Vehicle Type  \\\n",
       "0  MODEL Y  Battery Electric Vehicle (BEV)   \n",
       "1  MODEL Y  Battery Electric Vehicle (BEV)   \n",
       "2  MODEL S  Battery Electric Vehicle (BEV)   \n",
       "3  MODEL S  Battery Electric Vehicle (BEV)   \n",
       "4  MODEL Y  Battery Electric Vehicle (BEV)   \n",
       "\n",
       "   Clean Alternative Fuel Vehicle (CAFV) Eligibility  Electric Range  \\\n",
       "0            Clean Alternative Fuel Vehicle Eligible             291   \n",
       "1  Eligibility unknown as battery range has not b...               0   \n",
       "2            Clean Alternative Fuel Vehicle Eligible             270   \n",
       "3            Clean Alternative Fuel Vehicle Eligible             210   \n",
       "4  Eligibility unknown as battery range has not b...               0   \n",
       "\n",
       "   Base MSRP  Legislative District  DOL Vehicle ID  \\\n",
       "0          0                  37.0       125701579   \n",
       "1          0                   1.0       244285107   \n",
       "2          0                  36.0       156773144   \n",
       "3          0                   5.0       165103011   \n",
       "4          0                  23.0       205138552   \n",
       "\n",
       "                Vehicle Location  \\\n",
       "0   POINT (-122.30839 47.610365)   \n",
       "1  POINT (-122.179458 47.802589)   \n",
       "2   POINT (-122.34848 47.632405)   \n",
       "3   POINT (-122.03646 47.534065)   \n",
       "4   POINT (-122.55717 47.733415)   \n",
       "\n",
       "                                Electric Utility  2020 Census Tract  \n",
       "0   CITY OF SEATTLE - (WA)|CITY OF TACOMA - (WA)       5.303301e+10  \n",
       "1                         PUGET SOUND ENERGY INC       5.306105e+10  \n",
       "2   CITY OF SEATTLE - (WA)|CITY OF TACOMA - (WA)       5.303301e+10  \n",
       "3  PUGET SOUND ENERGY INC||CITY OF TACOMA - (WA)       5.303303e+10  \n",
       "4                         PUGET SOUND ENERGY INC       5.303594e+10  "
      ]
     },
     "execution_count": 3,
     "metadata": {},
     "output_type": "execute_result"
    }
   ],
   "source": [
    "data.head(5)"
   ]
  },
  {
   "cell_type": "code",
   "execution_count": 4,
   "id": "7a713c94-a7a3-4161-809d-0c9efd0c4bc0",
   "metadata": {},
   "outputs": [
    {
     "data": {
      "text/plain": [
       "(177866, 17)"
      ]
     },
     "execution_count": 4,
     "metadata": {},
     "output_type": "execute_result"
    }
   ],
   "source": [
    "data.shape"
   ]
  },
  {
   "cell_type": "code",
   "execution_count": 5,
   "id": "d0dd00cf-0048-4857-bb49-b7d45165be8d",
   "metadata": {},
   "outputs": [
    {
     "data": {
      "text/plain": [
       "Index(['VIN (1-10)', 'County', 'City', 'State', 'Postal Code', 'Model Year',\n",
       "       'Make', 'Model', 'Electric Vehicle Type',\n",
       "       'Clean Alternative Fuel Vehicle (CAFV) Eligibility', 'Electric Range',\n",
       "       'Base MSRP', 'Legislative District', 'DOL Vehicle ID',\n",
       "       'Vehicle Location', 'Electric Utility', '2020 Census Tract'],\n",
       "      dtype='object')"
      ]
     },
     "execution_count": 5,
     "metadata": {},
     "output_type": "execute_result"
    }
   ],
   "source": [
    "data.columns"
   ]
  },
  {
   "cell_type": "code",
   "execution_count": 6,
   "id": "a3117c02-c81d-4a76-a306-962ac5733c23",
   "metadata": {},
   "outputs": [
    {
     "name": "stdout",
     "output_type": "stream",
     "text": [
      "<class 'pandas.core.frame.DataFrame'>\n",
      "RangeIndex: 177866 entries, 0 to 177865\n",
      "Data columns (total 17 columns):\n",
      " #   Column                                             Non-Null Count   Dtype  \n",
      "---  ------                                             --------------   -----  \n",
      " 0   VIN (1-10)                                         177866 non-null  object \n",
      " 1   County                                             177861 non-null  object \n",
      " 2   City                                               177861 non-null  object \n",
      " 3   State                                              177866 non-null  object \n",
      " 4   Postal Code                                        177861 non-null  float64\n",
      " 5   Model Year                                         177866 non-null  int64  \n",
      " 6   Make                                               177866 non-null  object \n",
      " 7   Model                                              177866 non-null  object \n",
      " 8   Electric Vehicle Type                              177866 non-null  object \n",
      " 9   Clean Alternative Fuel Vehicle (CAFV) Eligibility  177866 non-null  object \n",
      " 10  Electric Range                                     177866 non-null  int64  \n",
      " 11  Base MSRP                                          177866 non-null  int64  \n",
      " 12  Legislative District                               177477 non-null  float64\n",
      " 13  DOL Vehicle ID                                     177866 non-null  int64  \n",
      " 14  Vehicle Location                                   177857 non-null  object \n",
      " 15  Electric Utility                                   177861 non-null  object \n",
      " 16  2020 Census Tract                                  177861 non-null  float64\n",
      "dtypes: float64(3), int64(4), object(10)\n",
      "memory usage: 23.1+ MB\n"
     ]
    }
   ],
   "source": [
    "\n",
    "# data cleaning\n",
    "\n",
    "data.info()"
   ]
  },
  {
   "cell_type": "code",
   "execution_count": 8,
   "id": "d0d6b83e-e4ca-4b93-9615-3a30de9755fc",
   "metadata": {},
   "outputs": [
    {
     "data": {
      "text/plain": [
       "VIN (1-10)                                             0\n",
       "County                                                 5\n",
       "City                                                   5\n",
       "State                                                  0\n",
       "Postal Code                                            5\n",
       "Model Year                                             0\n",
       "Make                                                   0\n",
       "Model                                                  0\n",
       "Electric Vehicle Type                                  0\n",
       "Clean Alternative Fuel Vehicle (CAFV) Eligibility      0\n",
       "Electric Range                                         0\n",
       "Base MSRP                                              0\n",
       "Legislative District                                 389\n",
       "DOL Vehicle ID                                         0\n",
       "Vehicle Location                                       9\n",
       "Electric Utility                                       5\n",
       "2020 Census Tract                                      5\n",
       "dtype: int64"
      ]
     },
     "execution_count": 8,
     "metadata": {},
     "output_type": "execute_result"
    }
   ],
   "source": [
    "data.isnull().sum()"
   ]
  },
  {
   "cell_type": "code",
   "execution_count": 11,
   "id": "1a4560d7-14dd-4844-9619-98d416051f2c",
   "metadata": {},
   "outputs": [],
   "source": [
    "data = data.dropna()"
   ]
  },
  {
   "cell_type": "code",
   "execution_count": 12,
   "id": "26f26225-b655-4a37-bdf6-1b915861e63b",
   "metadata": {},
   "outputs": [
    {
     "data": {
      "text/plain": [
       "VIN (1-10)                                           0\n",
       "County                                               0\n",
       "City                                                 0\n",
       "State                                                0\n",
       "Postal Code                                          0\n",
       "Model Year                                           0\n",
       "Make                                                 0\n",
       "Model                                                0\n",
       "Electric Vehicle Type                                0\n",
       "Clean Alternative Fuel Vehicle (CAFV) Eligibility    0\n",
       "Electric Range                                       0\n",
       "Base MSRP                                            0\n",
       "Legislative District                                 0\n",
       "DOL Vehicle ID                                       0\n",
       "Vehicle Location                                     0\n",
       "Electric Utility                                     0\n",
       "2020 Census Tract                                    0\n",
       "dtype: int64"
      ]
     },
     "execution_count": 12,
     "metadata": {},
     "output_type": "execute_result"
    }
   ],
   "source": [
    "data.isnull().sum()"
   ]
  },
  {
   "cell_type": "code",
   "execution_count": 13,
   "id": "0aece1e8-88a8-4a83-9f1b-8dfdd394e806",
   "metadata": {},
   "outputs": [],
   "source": [
    "\n",
    "# Analyze the growth of the EV population by model year. \n",
    "\n",
    "# Geographical Distribution: Understand where EVs are most commonly registered (e.g., by county or city).\n",
    "\n",
    "# EV Types: Breakdown of the dataset by electric vehicle type (BEV, etc.).\n",
    "\n",
    "# Make and Model Popularity: Identify the most popular makes and models among the registered EVs.\n",
    "\n",
    "# Electric Range Analysis: Analyze the electric range of vehicles to see how EV technology is progressing.\n",
    "\n",
    "# Estimated Growth in Market Size: Analyze and find the estimated growth in the market size of electric vehicles."
   ]
  },
  {
   "cell_type": "code",
   "execution_count": null,
   "id": "47a0281a-2a0c-4375-bb8a-94b47366d7ae",
   "metadata": {},
   "outputs": [],
   "source": [
    "\n",
    "\n",
    "# adoption over time -> number of models registered by the year\n",
    "\n",
    "import matplotlib.pyplot as plt\n",
    "import seaborn as sns\n"
   ]
  }
 ],
 "metadata": {
  "kernelspec": {
   "display_name": "Python 3 (ipykernel)",
   "language": "python",
   "name": "python3"
  },
  "language_info": {
   "codemirror_mode": {
    "name": "ipython",
    "version": 3
   },
   "file_extension": ".py",
   "mimetype": "text/x-python",
   "name": "python",
   "nbconvert_exporter": "python",
   "pygments_lexer": "ipython3",
   "version": "3.9.5"
  }
 },
 "nbformat": 4,
 "nbformat_minor": 5
}
