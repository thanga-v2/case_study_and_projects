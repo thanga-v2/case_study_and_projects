{
 "cells": [
  {
   "cell_type": "code",
   "execution_count": 2,
   "id": "9b6fb6e0-808a-4866-b85b-d1a763a96cf9",
   "metadata": {},
   "outputs": [],
   "source": [
    "# analyzing text reviews for sentiment analysis\n",
    "\n",
    "# removing special character\n",
    "\n",
    "import pandas as pd\n",
    "import re"
   ]
  },
  {
   "cell_type": "code",
   "execution_count": 10,
   "id": "ff8edf1d-d2ee-431f-a830-0f2fda77cb4b",
   "metadata": {},
   "outputs": [],
   "source": [
    "# sample data\n",
    "reviews_data = pd.DataFrame({\n",
    "    'review': [\n",
    "        'Great product! 😊 Highly recommend!!!',\n",
    "        'Bad quality 😔 Dont buy! 2021',\n",
    "        'Value for money 💰 5 stars!!!'],\n",
    "    'new' : [\n",
    "        'new values',\n",
    "        'present',\n",
    "        'in the data frame'\n",
    "    ]})"
   ]
  },
  {
   "cell_type": "code",
   "execution_count": 13,
   "id": "72474fc4-fe8e-4691-afde-d5a1785adedb",
   "metadata": {},
   "outputs": [
    {
     "data": {
      "text/html": [
       "<div>\n",
       "<style scoped>\n",
       "    .dataframe tbody tr th:only-of-type {\n",
       "        vertical-align: middle;\n",
       "    }\n",
       "\n",
       "    .dataframe tbody tr th {\n",
       "        vertical-align: top;\n",
       "    }\n",
       "\n",
       "    .dataframe thead th {\n",
       "        text-align: right;\n",
       "    }\n",
       "</style>\n",
       "<table border=\"1\" class=\"dataframe\">\n",
       "  <thead>\n",
       "    <tr style=\"text-align: right;\">\n",
       "      <th></th>\n",
       "      <th>review</th>\n",
       "      <th>new</th>\n",
       "    </tr>\n",
       "  </thead>\n",
       "  <tbody>\n",
       "    <tr>\n",
       "      <th>0</th>\n",
       "      <td>Great product! 😊 Highly recommend!!!</td>\n",
       "      <td>new values</td>\n",
       "    </tr>\n",
       "    <tr>\n",
       "      <th>1</th>\n",
       "      <td>Bad quality 😔 Dont buy! 2021</td>\n",
       "      <td>present</td>\n",
       "    </tr>\n",
       "    <tr>\n",
       "      <th>2</th>\n",
       "      <td>Value for money 💰 5 stars!!!</td>\n",
       "      <td>in the data frame</td>\n",
       "    </tr>\n",
       "  </tbody>\n",
       "</table>\n",
       "</div>"
      ],
      "text/plain": [
       "                                 review                new\n",
       "0  Great product! 😊 Highly recommend!!!         new values\n",
       "1          Bad quality 😔 Dont buy! 2021            present\n",
       "2          Value for money 💰 5 stars!!!  in the data frame"
      ]
     },
     "execution_count": 13,
     "metadata": {},
     "output_type": "execute_result"
    }
   ],
   "source": [
    "reviews_data"
   ]
  },
  {
   "cell_type": "code",
   "execution_count": 16,
   "id": "cf275a18-f76f-4e55-b7c0-e53b5e5738ad",
   "metadata": {},
   "outputs": [],
   "source": [
    "def clean_text(text):\n",
    "    # remove emojis\n",
    "    text = re.sub('[\\U00010000-\\U0010ffff]', '', text)\n",
    "    # remove special characters and numbers\n",
    "    text = re.sub('[^A-Za-z\\s]', '', text)\n",
    "    # to lower case\n",
    "    text = text.lower()\n",
    "    return text"
   ]
  },
  {
   "cell_type": "code",
   "execution_count": 24,
   "id": "5b0d63bc-1928-47a4-b0ef-788e583bacfa",
   "metadata": {},
   "outputs": [],
   "source": [
    "# applying the clean_text function to the reviw_data coloumn\n",
    "reviews_data['cleaned_data'] = reviews_data['review'].apply(clean_text)"
   ]
  },
  {
   "cell_type": "code",
   "execution_count": null,
   "id": "22a5d949-663d-4b26-967a-457319e0337b",
   "metadata": {},
   "outputs": [],
   "source": [
    "reviews_data"
   ]
  }
 ],
 "metadata": {
  "kernelspec": {
   "display_name": "Python 3 (ipykernel)",
   "language": "python",
   "name": "python3"
  },
  "language_info": {
   "codemirror_mode": {
    "name": "ipython",
    "version": 3
   },
   "file_extension": ".py",
   "mimetype": "text/x-python",
   "name": "python",
   "nbconvert_exporter": "python",
   "pygments_lexer": "ipython3",
   "version": "3.9.5"
  }
 },
 "nbformat": 4,
 "nbformat_minor": 5
}
